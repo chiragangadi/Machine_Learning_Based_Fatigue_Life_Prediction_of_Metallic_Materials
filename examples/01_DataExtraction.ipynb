{
 "cells": [
  {
   "cell_type": "code",
   "execution_count": 1,
   "metadata": {},
   "outputs": [],
   "source": [
    "import pandas as pd\n",
    "import matplotlib.pyplot as plt\n",
    "import os \n",
    "import re"
   ]
  },
  {
   "cell_type": "code",
   "execution_count": 2,
   "metadata": {},
   "outputs": [],
   "source": [
    "pd.set_option('display.max_columns', None)\n",
    "pd.set_option('display.max_rows', None)"
   ]
  },
  {
   "cell_type": "code",
   "execution_count": 17,
   "metadata": {},
   "outputs": [],
   "source": [
    "# Function to remove text and keep only numbers\n",
    "def keep_only_numbers(cell):\n",
    " if pd.isna(cell) or cell is None:\n",
    "     return None\n",
    " numbers = re.findall(r'\\d+\\.\\d+|\\d+', str(cell))\n",
    " if numbers:\n",
    "     return float(numbers[0])\n",
    " else:\n",
    "     return None"
   ]
  },
  {
   "cell_type": "code",
   "execution_count": 4,
   "metadata": {},
   "outputs": [],
   "source": [
    "def data_gen(path, col_list1, col_list2, col_list3, newcol_name):\n",
    "    df = pd.read_json(path)\n",
    "    df_1 = df[col_list1]\n",
    "    df_1.columns = newcol_name\n",
    "\n",
    "    df_2 = df[col_list2]\n",
    "    df_2.columns = newcol_name\n",
    "\n",
    "    df_3 = df[col_list3]\n",
    "    df_3.columns = newcol_name\n",
    "    \n",
    "    dataframe = pd.concat((df_1, df_2, df_3), axis=0)\n",
    "    return dataframe"
   ]
  },
  {
   "cell_type": "code",
   "execution_count": 5,
   "metadata": {},
   "outputs": [],
   "source": [
    "list_1 = ['Pdf_name','Azure_model','Page_1','All_Series_1','CodeSeries','MaterialNo','Year','JICSTNo','Material','Mat_process_1','Mat_size_1','Manuf_1','Forg_ra_1','Inclu_DA_1','Inclu_DB_1','Inclu_DC_1','Inclu_Tot_1',\n",
    "          'CHEM_1_01','CHEM_1_02','CHEM_1_03','CHEM_1_04','CHEM_1_05','CHEM_1_06','CHEM_1_07','CHEM_1_08','CHEM_1_09','CHEM_1_10','CHEM_1_11','CHEM_1_12','CHEM_1_13','CHEM_1_14', \n",
    "          'HT_Geom_1','HT_Hardness_1', 'HT_process_1', 'HT_Grain_size_1','TT_Direction_1','TT_Type_1', 'TT_Geom_1','TT_results_1', 'ImpT_by_1', 'ImpT_Type_1','ImpT_results_1',\n",
    "          'Fat_spec_Direction_1','Fat_spec_Geo_Type_1','Fat_spec_Geo_top_1','Fat_spec_Geo_bottom_1','Fat_spec_SCF_1','Fat_spec_SCF_from_1','Fat_spec_surf_1','Fat_spec_Hardness_1','Fat_spec_rough_1','Fat_spec_HT_1',\n",
    "          'FT_spec_control_1','FT_spec_def_fail_1','FT_spec_freq_1','FT_spec_load_mach_1','FT_spec_load_type_1','FT_spec_num_mach_1','FT_spec_Te_period_1','FT_spec_Environment_1','Fat_Test_Type_1','Fat_Test_Results_1']\n",
    "\n",
    "list_2 = ['Pdf_name','Azure_model','Page_1','All_Series_1','CodeSeries_2','MaterialNo_2','Year_2','JICSTNo_2','Material_2','Mat_process_2','Mat_size_2','Manuf_2','Forg_ra_2','Indu_DA_2','Inclu_DB_2','Inclu_DC_2','Inclu_Tot_2',\n",
    "          'CHEM_2_01','CHEM_2_02','CHEM_2_03','CHEM_2_04','CHEM_2_05','CHEM_2_06','CHEM_2_07','CHEM_2_08','CHEM_2_09','CHEM_2_10','CHEM_2_11','CHEM_2_12','CHEM_2_13','CHEM_2_14', \n",
    "          'HT_Geom_2','HT_Hardness_2', 'HT_process_2','HT_Grain_size_2','TT_Direction_2','TT_Type_2','TT_Geom_2','TT_results_2','ImpT_by_2','ImpT_Type_2','ImpT_results_2',\n",
    "          'Fat_spec_Direction_2','Fat_spec_Geo_Type_2','Fat_spec_Geo_top_2','Fat_spec_Geo_bottom_2','Fat_spec_SCF_2','Fat_spec_SCF_from_2','Fat_spec_surf_2','Fat_spec_Hardness_2','Fat_spec_rough_2','Fat_spec_HT_2',\n",
    "          'FT_spec_control_2','FT_spec_def_fail_2','FT_spec_freq_2','FT_spec_load_mach_2','FT_spec_load_type_2','FT_spec_num_mach_2','FT_spec_Te_period_2','FT_spec_Environment_2','Fat_Test_Type_2','Fat_Test_Results_2']\n",
    "\n",
    "list_3 = ['Pdf_name','Azure_model','Page_2','All_Series_2','CodeSeries_3','MaterialNo_3','Year_3','JICSTNo_3','Material_3','Mat_process_3','Mat_size_3','Manuf_3','Forg_ra_3','Indu_DA_3','Indu_DB_3','Indu_DC_3','Indu_Tot_3',\n",
    "          'CHEM_3_01','CHEM_3_02','CHEM_3_03','CHEM_3_04','CHEM_3_05','CHEM_3_06','CHEM_3_07','CHEM_3_08','CHEM_3_09','CHEM_3_10','CHEM_3_11','CHEM_3_12','CHEM_3_13','CHEM_3_14',\n",
    "          'HT_Geom_3','HT_Hardness_3','HT_process_3','HT_Grain_size_3','TT_Direction_3','TT_Type_3','TT_Geom_3','TT_results_3','ImpT_by_3','ImpT_Type_3','ImpT_results_3',\n",
    "          'Fat_spec_Direction_3', 'Fat_spec_Geo_Type_3','Fat_spec_Geo_top_3','Fat_spec_Geo_bottom_3','Fat_spec_SCF_3','Fat_spec_SCF_from_3','Fat_spec_surf_3','Fat_spec_Hardness_3','Fat_spec_rough_3','Fat_spec_HT_3',\n",
    "          'FT_spec_control_3','FT_spec_def_fail_3','FT_spec_freq_3','FT_spec_load_mach_3','FT_spec_load_type_3','FT_spec_num_mach_3','FT_spec_Te_period_3','FT_spec_Environment_3','Fat_Test_Type_3','Fat_Test_Results_3']\n",
    "\n",
    "new_column = ['Pdf_name','Azure_model','Page','All_Series','CodeSeries','MaterialNo','Year','JICSTNo','Material','Material_process','Material_size','Manufacturer','Forging_ratio','Inclusions_DA','Inclusions_DB','Inclusions_DC','Inclusions_Total',\n",
    "            'CHEM_01','CHEM_02','CHEM_03','CHEM_04','CHEM_05','CHEM_06','CHEM_07','CHEM_08','CHEM_09','CHEM_10','CHEM_11','CHEM_12','CHEM_13','CHEM_14', \n",
    "            'HT_Geometry','HT_Hardness', 'HT_process', 'HT_Grain_size','TT_Direction','TT_Type', 'TT_Geometry','TT_results','ImpT_by','ImpT_Type','ImpT_results',\n",
    "            'Fat_spec_Direction','Fat_spec_Geo_Type','Fat_spec_Geo_top','Fat_spec_Geo_bottom','Fat_spec_StressConcentraionFactor','Fat_spec_StressConcentrationFactor_from','Fat_spec_surface','Fat_spec_Hardness','Fat_spec_roughness','Fat_spec_HT',\n",
    "            'FT_control','FT_definition_failure','FT_frequency','FT_load_machine','FT_load_type','FT_number_machines','FT_Test_period','FT_Environment','Fatigue_Test_Type','Fatigue_Test_Results']\n",
    "\n",
    "new_column_ferrous = ['Pdf_name','Azure_model','Page','All_Series','CodeSeries','MaterialNo','Year','JICSTNo','Material','Material_process','Material_size','Manufacturer','Forging_ratio','Inclusions_DA','Inclusions_DB','Inclusions_DC','Inclusions_Total',\n",
    "                    'C','Si','Mn','P','S','Ni','Cr','Mo','V','Cu','Al','Ti','CHEM_13','CHEM_14', \n",
    "                    'HT_Geometry','HT_Hardness', 'HT_process', 'HT_Grain_size','TT_Direction','TT_Type', 'TT_Geometry','TT_results','ImpT_by','ImpT_Type','ImpT_results',\n",
    "                    'Fat_spec_Direction','Fat_spec_Geo_Type','Fat_spec_Geo_top','Fat_spec_Geo_bottom','Fat_spec_StressConcentraionFactor','Fat_spec_StressConcentrationFactor_from','Fat_spec_surface','Fat_spec_Hardness','Fat_spec_roughness','Fat_spec_HT',\n",
    "                    'FT_control','FT_definition_failure','FT_frequency','FT_load_machine','FT_load_type','FT_number_machines','FT_Test_period','FT_Environment','Fatigue_Test_Type','Fatigue_Test_Results','CodeSeries_pos', 'Fat_Test_Results_pos']\n",
    "\n",
    "new_column_nonferrous = ['Pdf_name','Azure_model','Page','All_Series','CodeSeries','MaterialNo','Year','JICSTNo','Material','Material_process','Material_size','Manufacturer','Forging_ratio','Inclusions_DA','Inclusions_DB','Inclusions_DC','Inclusions_Total',\n",
    "                        'Al','Cu','Fe','Mg','Mn','Si','Sn','Zn','CHEM_9','CHEM_10','CHEM_11','CHEM_12','CHEM_13','CHEM_14', \n",
    "                        'HT_Geometry','HT_Hardness', 'HT_process', 'HT_Grain_size','TT_Direction','TT_Type', 'TT_Geometry','TT_results','ImpT_by','ImpT_Type','ImpT_results',\n",
    "                         'Fat_spec_Direction','Fat_spec_Geo_Type','Fat_spec_Geo_top','Fat_spec_Geo_bottom','Fat_spec_StressConcentraionFactor','Fat_spec_StressConcentrationFactor_from','Fat_spec_surface','Fat_spec_Hardness','Fat_spec_roughness','Fat_spec_HT',\n",
    "                        'FT_control','FT_definition_failure','FT_frequency','FT_load_machine','FT_load_type','FT_number_machines','FT_Test_period','FT_Environment','Fatigue_Test_Type','Fatigue_Test_Results','CodeSeries_pos', 'Fat_Test_Results_pos']"
   ]
  },
  {
   "cell_type": "code",
   "execution_count": 6,
   "metadata": {},
   "outputs": [],
   "source": [
    "list_1_conf = ['CodeSeries_conf','MaterialNo_conf','Year_conf','JICSTNo_conf','Material_conf','Mat_process_1_conf','Mat_size_1_conf','Manuf_1_conf','Forg_ra_1_conf','Inclu_DA_1_conf','Inclu_DB_1_conf','Inclu_DC_1_conf','Inclu_Tot_1_conf',\n",
    "          'CHEM_1_01_conf','CHEM_1_02_conf','CHEM_1_03_conf','CHEM_1_04_conf','CHEM_1_05_conf','CHEM_1_06_conf','CHEM_1_07_conf','CHEM_1_08_conf','CHEM_1_09_conf','CHEM_1_10_conf','CHEM_1_11_conf','CHEM_1_12_conf','CHEM_1_13_conf','CHEM_1_14_conf', \n",
    "          'HT_Geom_1_conf','HT_Hardness_1_conf', 'HT_process_1_conf', 'HT_Grain_size_1_conf','TT_Direction_1_conf','TT_Type_1_conf', 'TT_Geom_1_conf','TT_results_1_conf', 'ImpT_by_1_conf', 'ImpT_Type_1_conf','ImpT_results_1_conf',\n",
    "          'Fat_spec_Direction_1_conf','Fat_spec_Geo_Type_1_conf','Fat_spec_Geo_top_1_conf','Fat_spec_Geo_bottom_1_conf','Fat_spec_SCF_1_conf','Fat_spec_SCF_from_1_conf','Fat_spec_surf_1_conf','Fat_spec_Hardness_1_conf','Fat_spec_rough_1_conf','Fat_spec_HT_1_conf',\n",
    "          'FT_spec_control_1_conf','FT_spec_def_fail_1_conf','FT_spec_freq_1_conf','FT_spec_load_mach_1_conf','FT_spec_load_type_1_conf','FT_spec_num_mach_1_conf','FT_spec_Te_period_1_conf','FT_spec_Environment_1_conf','Fat_Test_Type_1_conf','Fat_Test_Results_1_conf']\n",
    "\n",
    "list_2_conf = ['CodeSeries_2_conf','MaterialNo_2_conf','Year_2_conf','JICSTNo_2_conf','Material_2_conf','Mat_process_2_conf','Mat_size_2_conf','Manuf_2_conf','Forg_ra_2_conf','Indu_DA_2_conf','Inclu_DB_2_conf','Inclu_DC_2_conf','Inclu_Tot_2_conf',\n",
    "          'CHEM_2_01_conf','CHEM_2_02_conf','CHEM_2_03_conf','CHEM_2_04_conf','CHEM_2_05_conf','CHEM_2_06_conf','CHEM_2_07_conf','CHEM_2_08_conf','CHEM_2_09_conf','CHEM_2_10_conf','CHEM_2_11_conf','CHEM_2_12_conf','CHEM_2_13_conf','CHEM_2_14_conf', \n",
    "          'HT_Geom_2_conf','HT_Hardness_2_conf', 'HT_process_2_conf','HT_Grain_size_2_conf','TT_Direction_2_conf','TT_Type_2_conf','TT_Geom_2_conf','TT_results_2_conf','ImpT_by_2_conf','ImpT_Type_2_conf','ImpT_results_2_conf',\n",
    "          'Fat_spec_Direction_2_conf','Fat_spec_Geo_Type_2_conf','Fat_spec_Geo_top_2_conf','Fat_spec_Geo_bottom_2_conf','Fat_spec_SCF_2_conf','Fat_spec_SCF_from_2_conf','Fat_spec_surf_2_conf','Fat_spec_Hardness_2_conf','Fat_spec_rough_2_conf','Fat_spec_HT_2_conf',\n",
    "          'FT_spec_control_2_conf','FT_spec_def_fail_2_conf','FT_spec_freq_2_conf','FT_spec_load_mach_2_conf','FT_spec_load_type_2_conf','FT_spec_num_mach_2_conf','FT_spec_Te_period_2_conf','FT_spec_Environment_2_conf','Fat_Test_Type_2_conf','Fat_Test_Results_2_conf']\n",
    "\n",
    "list_3_conf = ['CodeSeries_3_conf','MaterialNo_3_conf','Year_3_conf','JICSTNo_3_conf','Material_3_conf','Mat_process_3_conf','Mat_size_3_conf','Manuf_3_conf','Forg_ra_3_conf','Indu_DA_3_conf','Indu_DB_3_conf','Indu_DC_3_conf','Indu_Tot_3_conf',\n",
    "          'CHEM_3_01_conf','CHEM_3_02_conf','CHEM_3_03_conf','CHEM_3_04_conf','CHEM_3_05_conf','CHEM_3_06_conf','CHEM_3_07_conf','CHEM_3_08_conf','CHEM_3_09_conf','CHEM_3_10_conf','CHEM_3_11_conf','CHEM_3_12_conf','CHEM_3_13_conf','CHEM_3_14_conf',\n",
    "          'HT_Geom_3_conf','HT_Hardness_3_conf','HT_process_3_conf','HT_Grain_size_3_conf','TT_Direction_3_conf','TT_Type_3_conf','TT_Geom_3_conf','TT_results_3_conf','ImpT_by_3_conf','ImpT_Type_3_conf','ImpT_results_3_conf',\n",
    "          'Fat_spec_Direction_3_conf', 'Fat_spec_Geo_Type_3_conf','Fat_spec_Geo_top_3_conf','Fat_spec_Geo_bottom_3_conf','Fat_spec_SCF_3_conf','Fat_spec_SCF_from_3_conf','Fat_spec_surf_3_conf','Fat_spec_Hardness_3_conf','Fat_spec_rough_3_conf','Fat_spec_HT_3_conf',\n",
    "          'FT_spec_control_3_conf','FT_spec_def_fail_3_conf','FT_spec_freq_3_conf','FT_spec_load_mach_3_conf','FT_spec_load_type_3_conf','FT_spec_num_mach_3_conf','FT_spec_Te_period_3_conf','FT_spec_Environment_3_conf','Fat_Test_Type_3_conf','Fat_Test_Results_3_conf']\n",
    "\n",
    "new_column_conf = ['CodeSeries_conf','MaterialNo_conf','Year_conf','JICSTNo_conf','Material_conf','Material_process_conf','Material_size_conf','Manufacturer_conf','Forging_ratio_conf','Inclusions_DA_conf','Inclusions_DB_conf','Inclusions_DC_conf','Inclusions_Total_conf',\n",
    "            'CHEM_01_conf','CHEM_02_conf','CHEM_03_conf','CHEM_04_conf','CHEM_05_conf','CHEM_06_conf','CHEM_07_conf','CHEM_08_conf','CHEM_09_conf','CHEM_10_conf','CHEM_11_conf','CHEM_12_conf','CHEM_13_conf','CHEM_14_conf', \n",
    "            'HT_Geometry_conf','HT_Hardness_conf', 'HT_process_conf', 'HT_Grain_size_conf','TT_Direction_conf','TT_Type_conf', 'TT_Geometry_conf','TT_results_conf','ImpT_by_conf','ImpT_Type_conf','ImpT_results_conf',\n",
    "            'Fat_spec_Direction_conf','Fat_spec_Geo_Type_conf','Fat_spec_Geo_top_conf','Fat_spec_Geo_bottom_conf','Fat_spec_StressConcentraionFactor_conf','Fat_spec_StressConcentrationFactor_from_conf','Fat_spec_surface_conf','Fat_spec_Hardness_conf','Fat_spec_roughness_conf','Fat_spec_HT_conf',\n",
    "            'FT_control_conf','FT_definition_failure_conf','FT_frequency_conf','FT_load_machine_conf','FT_load_type_conf','FT_number_machines_conf','FT_Test_period_conf','FT_Environment_conf','Fatigue_Test_Type_conf','Fatigue_Test_Results_conf']\n",
    "\n",
    "new_column_ferrous_conf = ['Page','CodeSeries','CodeSeries_conf','MaterialNo_conf','Year_conf','JICSTNo_conf','Material_conf','Material_process_conf','Material_size_conf','Manufacturer_conf','Forging_ratio_conf','Inclusions_DA_conf','Inclusions_DB_conf','Inclusions_DC_conf','Inclusions_Total_conf',\n",
    "                    'C_conf','Si_conf','Mn_conf','P_conf','S_conf','Ni_conf','Cr_conf','Mo_conf','V_conf','Cu_conf','Al_conf','Ti_conf','CHEM_13_conf','CHEM_14_conf', \n",
    "                    'HT_Geometry_conf','HT_Hardness_conf', 'HT_process_conf', 'HT_Grain_size_conf','TT_Direction_conf','TT_Type_conf', 'TT_Geometry_conf','TT_results_conf','ImpT_by_conf','ImpT_Type_conf','ImpT_results_conf',\n",
    "                    'Fat_spec_Direction_conf','Fat_spec_Geo_Type_conf','Fat_spec_Geo_top_conf','Fat_spec_Geo_bottom_conf','Fat_spec_StressConcentraionFactor_conf','Fat_spec_StressConcentrationFactor_from_conf','Fat_spec_surface_conf','Fat_spec_Hardness_conf','Fat_spec_roughness_conf','Fat_spec_HT_conf',\n",
    "                    'FT_control_conf','FT_definition_failure_conf','FT_frequency_conf','FT_load_machine_conf','FT_load_type_conf','FT_number_machines_conf','FT_Test_period_conf','FT_Environment_conf','Fatigue_Test_Type_conf','Fatigue_Test_Results_conf']\n",
    "\n",
    "new_column_nonferrous_conf = ['Page','CodeSeries','CodeSeries_conf','MaterialNo_conf','Year_conf','JICSTNo_conf','Material_conf','Material_process_conf','Material_size_conf','Manufacturer_conf','Forging_ratio_conf','Inclusions_DA_conf','Inclusions_DB_conf','Inclusions_DC_conf','Inclusions_Total_conf',\n",
    "                        'Al_conf','Cu_conf','Fe_conf','Mg_conf','Mn_conf','Si_conf','Sn_conf','Zn_conf','CHEM_9_conf','CHEM_10_conf','CHEM_11_conf','CHEM_12_conf','CHEM_13_conf','CHEM_14_conf', \n",
    "                        'HT_Geometry_conf','HT_Hardness_conf', 'HT_process_conf', 'HT_Grain_size_conf','TT_Direction_conf','TT_Type_conf', 'TT_Geometry_conf','TT_results_conf','ImpT_by_conf','ImpT_Type_conf','ImpT_results_conf',\n",
    "                         'Fat_spec_Direction_conf','Fat_spec_Geo_Type_conf','Fat_spec_Geo_top_conf','Fat_spec_Geo_bottom_conf','Fat_spec_StressConcentraionFactor_conf','Fat_spec_StressConcentrationFactor_from_conf','Fat_spec_surface_conf','Fat_spec_Hardness_conf','Fat_spec_roughness_conf','Fat_spec_HT_conf',\n",
    "                        'FT_control_conf','FT_definition_failure_conf','FT_frequency_conf','FT_load_machine_conf','FT_load_type_conf','FT_number_machines_conf','FT_Test_period_conf','FT_Environment_conf','Fatigue_Test_Type_conf','Fatigue_Test_Results_conf']"
   ]
  },
  {
   "cell_type": "code",
   "execution_count": 7,
   "metadata": {},
   "outputs": [],
   "source": [
    "data = pd.DataFrame()\n",
    "\n",
    "directory_path = r\"C:\\Users\\ngc2kor\\Documents\\masterthesis_angadi\\NGC2KOR\\01_Data\\01_Raw Data\\01_All data\\Version 3\\values\"\n",
    "for root, dir, files in os.walk(directory_path):\n",
    "    for file in files:\n",
    "        file_path = os.path.join(root, file)\n",
    "        df = data_gen(file_path,list_1,list_2,list_3,new_column)\n",
    "        data = pd.concat((data,df),axis=0, ignore_index=True)"
   ]
  },
  {
   "cell_type": "code",
   "execution_count": 8,
   "metadata": {},
   "outputs": [],
   "source": [
    "data['Page'] = data['Page'].map(keep_only_numbers)\n",
    "data = data.dropna(subset = ['CodeSeries'], ignore_index=True).drop_duplicates('CodeSeries', ignore_index=True).sort_values('Page', ignore_index=True)"
   ]
  },
  {
   "cell_type": "code",
   "execution_count": 9,
   "metadata": {},
   "outputs": [],
   "source": [
    "data_fatigue_result = pd.DataFrame()\n",
    "list_1 = ['CodeSeries', 'Fat_Test_Type_1','Fat_Test_Results_1']\n",
    "list_2 = ['CodeSeries_2', 'Fat_Test_Type_2','Fat_Test_Results_2']\n",
    "list_3 = ['CodeSeries_3', 'Fat_Test_Type_3','Fat_Test_Results_3']\n",
    "new_column = ['CodeSeries', 'Fat_Test_Type','Fat_Test_Results']\n",
    "\n",
    "directory_path = r\"C:\\Users\\ngc2kor\\Documents\\masterthesis_angadi\\NGC2KOR\\01_Data\\01_Raw Data\\02_Fatigue results\\Version 1\\values\"\n",
    "for root, dir, files in os.walk(directory_path):\n",
    "    for file in files:\n",
    "        file_path = os.path.join(root, file)\n",
    "        df = data_gen(file_path,list_1,list_2,list_3,new_column)\n",
    "        data_fatigue_result = pd.concat((data_fatigue_result,df),axis=0, ignore_index=True)"
   ]
  },
  {
   "cell_type": "code",
   "execution_count": 10,
   "metadata": {},
   "outputs": [],
   "source": [
    "data_fatigue_pos = pd.DataFrame()\n",
    "list_1 = ['CodeSeries_pos', 'Fat_Test_Results_1_pos']\n",
    "list_2 = ['CodeSeries_2_pos', 'Fat_Test_Results_2_pos']\n",
    "list_3 = ['CodeSeries_3_pos', 'Fat_Test_Results_3_pos']\n",
    "new_column = ['CodeSeries_pos', 'Fat_Test_Results_pos']\n",
    "\n",
    "directory_path = r\"C:\\Users\\ngc2kor\\Documents\\masterthesis_angadi\\NGC2KOR\\01_Data\\01_Raw Data\\02_Fatigue results\\Version 1\\position\"\n",
    "for root, dir, files in os.walk(directory_path):\n",
    "    for file in files:\n",
    "        file_path = os.path.join(root, file)\n",
    "        df = data_gen(file_path,list_1,list_2,list_3,new_column)\n",
    "        data_fatigue_pos = pd.concat((data_fatigue_pos,df),axis=0, ignore_index=True)"
   ]
  },
  {
   "cell_type": "code",
   "execution_count": 11,
   "metadata": {},
   "outputs": [],
   "source": [
    "data_fatigue_test = pd.concat((data_fatigue_result,data_fatigue_pos), axis=1)\n",
    "data_fatigue_test = data_fatigue_test.dropna(subset=['CodeSeries'], ignore_index=True).drop_duplicates('CodeSeries', ignore_index=True)"
   ]
  },
  {
   "cell_type": "code",
   "execution_count": 12,
   "metadata": {},
   "outputs": [],
   "source": [
    "for i in range(len(data)):\n",
    "    for j in range(len(data_fatigue_test)):\n",
    "        if data['CodeSeries'][i] == data_fatigue_test['CodeSeries'][j]:\n",
    "            data.loc[i, 'Fatigue_Test_Type'] = data_fatigue_test['Fat_Test_Type'][j]\n",
    "            data.loc[i, 'Fatigue_Test_Results'] = str(data_fatigue_test['Fat_Test_Results'][j])\n",
    "            data.loc[i, 'CodeSeries_pos'] = data_fatigue_test['CodeSeries_pos'][j]\n",
    "            data.loc[i, 'Fat_Test_Results_pos'] = str(data_fatigue_test['Fat_Test_Results_pos'][j])\n",
    "            break"
   ]
  },
  {
   "cell_type": "code",
   "execution_count": 13,
   "metadata": {},
   "outputs": [],
   "source": [
    "index = data.index[data['CodeSeries'] == \"179-011\"].tolist()[0]\n",
    "data_ferrous = data[:index+1]\n",
    "\n",
    "index2 = data.index[data['CodeSeries'] == \"150-002\"].tolist()[0]\n",
    "data_nonferrous = data[index+1:index2+1].reset_index(drop=True)\n",
    "\n",
    "data_powdermetallurgy = data[index2+1:].reset_index(drop=True)\n",
    " \n",
    "data_ferrous.columns = new_column_ferrous\n",
    "data_nonferrous.columns = new_column_nonferrous"
   ]
  },
  {
   "cell_type": "code",
   "execution_count": 14,
   "metadata": {},
   "outputs": [],
   "source": [
    "data_conf = pd.DataFrame()\n",
    "\n",
    "directory_path = r\"C:\\Users\\ngc2kor\\Documents\\masterthesis_angadi\\NGC2KOR\\01_Data\\01_Raw Data\\01_All data\\Version 3\\conf\"\n",
    "for root, dir, files in os.walk(directory_path):\n",
    "    for file in files:\n",
    "        file_path = os.path.join(root, file)\n",
    "        df = data_gen(file_path,list_1_conf,list_2_conf,list_3_conf,new_column_conf)\n",
    "        data_conf = pd.concat((data_conf,df),axis=0, ignore_index=True)"
   ]
  },
  {
   "cell_type": "code",
   "execution_count": 15,
   "metadata": {},
   "outputs": [],
   "source": [
    "data_conf = pd.concat((data[['Page','CodeSeries']], data_conf), axis=1)"
   ]
  },
  {
   "cell_type": "code",
   "execution_count": 16,
   "metadata": {},
   "outputs": [],
   "source": [
    "data_conf['Page'] = data_conf['Page'].map(keep_only_numbers)\n",
    "data_conf = data_conf.dropna(subset = ['CodeSeries'], ignore_index=True).drop_duplicates('CodeSeries', ignore_index=True).sort_values('Page', ignore_index=True)"
   ]
  },
  {
   "cell_type": "code",
   "execution_count": 17,
   "metadata": {},
   "outputs": [],
   "source": [
    "data_fatigue_result_conf = pd.DataFrame()\n",
    "list_1 = ['Fat_Test_Type_1_conf','Fat_Test_Results_1_conf']\n",
    "list_2 = ['Fat_Test_Type_2_conf','Fat_Test_Results_2_conf']\n",
    "list_3 = ['Fat_Test_Type_3_conf','Fat_Test_Results_3_conf']\n",
    "new_column = ['Fat_Test_Type_conf','Fat_Test_Results_conf']\n",
    "\n",
    "directory_path = r\"C:\\Users\\ngc2kor\\Documents\\masterthesis_angadi\\NGC2KOR\\01_Data\\01_Raw Data\\02_Fatigue results\\Version 1\\conf\"\n",
    "for root, dir, files in os.walk(directory_path):\n",
    "    for file in files:\n",
    "        file_path = os.path.join(root, file)\n",
    "        df = data_gen(file_path,list_1,list_2,list_3,new_column)\n",
    "        data_fatigue_result_conf = pd.concat((data_fatigue_result_conf,df),axis=0, ignore_index=True)"
   ]
  },
  {
   "cell_type": "code",
   "execution_count": 18,
   "metadata": {},
   "outputs": [],
   "source": [
    "data_fatigue_result_conf = pd.concat((data_fatigue_result['CodeSeries'], data_fatigue_result_conf), axis=1)"
   ]
  },
  {
   "cell_type": "code",
   "execution_count": 19,
   "metadata": {},
   "outputs": [],
   "source": [
    "for i in range(len(data_conf)):\n",
    "    for j in range(len(data_fatigue_test)):\n",
    "        if data_conf['CodeSeries'][i] == data_fatigue_result_conf['CodeSeries'][j]:\n",
    "            data_conf.loc[i, 'Fatigue_Test_Type_conf'] = data_fatigue_result_conf['Fat_Test_Type_conf'][j]\n",
    "            data_conf.loc[i, 'Fatigue_Test_Results_conf'] = str(data_fatigue_result_conf['Fat_Test_Results_conf'][j])\n",
    "            break"
   ]
  },
  {
   "cell_type": "code",
   "execution_count": 20,
   "metadata": {},
   "outputs": [],
   "source": [
    "index = data_conf.index[data_conf['CodeSeries'] == \"179-011\"].tolist()[0]\n",
    "data_ferrous_conf = data_conf[:index+1]\n",
    "\n",
    "index2 = data_conf.index[data_conf['CodeSeries'] == \"150-002\"].tolist()[0]\n",
    "data_nonferrous_conf = data_conf[index+1:index2+1].reset_index(drop=True)\n",
    "\n",
    "data_powdermetallurgy = data_conf[index2+1:].reset_index(drop=True)\n",
    " \n",
    "data_ferrous_conf.columns = new_column_ferrous_conf\n",
    "data_nonferrous_conf.columns = new_column_nonferrous_conf"
   ]
  },
  {
   "cell_type": "code",
   "execution_count": 21,
   "metadata": {},
   "outputs": [],
   "source": [
    "data_ferrous.to_csv(r\"C:\\Users\\ngc2kor\\Documents\\masterthesis_angadi\\NGC2KOR\\01_Data\\02_Extracted Data\\Version 3\\RawDataset_ferrous.csv\")\n",
    "data_ferrous.to_json(r\"C:\\Users\\ngc2kor\\Documents\\masterthesis_angadi\\NGC2KOR\\01_Data\\02_Extracted Data\\Version 3\\RawDataset_ferrous.json\")\n",
    "\n",
    "data_nonferrous.to_csv(r\"C:\\Users\\ngc2kor\\Documents\\masterthesis_angadi\\NGC2KOR\\01_Data\\02_Extracted Data\\Version 3\\RawDataset_nonferrous.csv\")\n",
    "data_nonferrous.to_json(r\"C:\\Users\\ngc2kor\\Documents\\masterthesis_angadi\\NGC2KOR\\01_Data\\02_Extracted Data\\Version 3\\RawDataset_nonferrous.json\")\n",
    "\n",
    "data_powdermetallurgy.to_csv(r\"C:\\Users\\ngc2kor\\Documents\\masterthesis_angadi\\NGC2KOR\\01_Data\\02_Extracted Data\\Version 3\\RawDataset_powdermetallurgy.csv\")\n",
    "data_powdermetallurgy.to_json(r\"C:\\Users\\ngc2kor\\Documents\\masterthesis_angadi\\NGC2KOR\\01_Data\\02_Extracted Data\\Version 3\\RawDataset_powdermetallurgy.json\")"
   ]
  },
  {
   "cell_type": "code",
   "execution_count": 22,
   "metadata": {},
   "outputs": [],
   "source": [
    "data_ferrous_conf.to_csv(r\"C:\\Users\\ngc2kor\\Documents\\masterthesis_angadi\\NGC2KOR\\01_Data\\02_Extracted Data\\Version 3\\RawDataset_ferrous_conf.csv\")\n",
    "data_nonferrous_conf.to_csv(r\"C:\\Users\\ngc2kor\\Documents\\masterthesis_angadi\\NGC2KOR\\01_Data\\02_Extracted Data\\Version 3\\RawDataset_nonferrous_conf.csv\")"
   ]
  },
  {
   "cell_type": "code",
   "execution_count": 21,
   "metadata": {},
   "outputs": [],
   "source": [
    "df1 = pd.read_excel(r\"C:\\Users\\ngc2kor\\Documents\\masterthesis_angadi\\NGC2KOR\\01_Data\\All Data\\DaBef Data Aluminium.xlsx\")\n",
    "df2 = pd.read_excel(r\"C:\\Users\\ngc2kor\\Desktop\\Alu_DaBef_FKM_estimation.xlsx\")"
   ]
  },
  {
   "cell_type": "code",
   "execution_count": 22,
   "metadata": {},
   "outputs": [],
   "source": [
    "for i in range(len(df1)):\n",
    "    for j in range(len(df2)):\n",
    "        if df1.loc[i, 'CodeSeries'] == df2.loc[j, 'CodeSeries']:\n",
    "            df1.loc[i, 'SD_FKM'] = df2.loc[j, 'SD_FKM']\n",
    "            df1.loc[i, 'Rz_FKM'] = df2.loc[j, 'Rz_FKM']\n",
    "            df1.loc[i, 'A90'] = df2.loc[j, 'A90']\n",
    "            df1.loc[i, 'G0'] = df2.loc[j, 'G0']\n",
    "            df1.loc[i, 'K_p'] = df2.loc[j, 'K_p']\n",
    "            "
   ]
  },
  {
   "cell_type": "code",
   "execution_count": 23,
   "metadata": {},
   "outputs": [],
   "source": [
    "df1.to_excel(r\"C:\\Users\\ngc2kor\\Documents\\masterthesis_angadi\\NGC2KOR\\01_Data\\All Data\\DaBef Data Aluminium_1.xlsx\")"
   ]
  }
 ],
 "metadata": {
  "kernelspec": {
   "display_name": "Python 3",
   "language": "python",
   "name": "python3"
  },
  "language_info": {
   "codemirror_mode": {
    "name": "ipython",
    "version": 3
   },
   "file_extension": ".py",
   "mimetype": "text/x-python",
   "name": "python",
   "nbconvert_exporter": "python",
   "pygments_lexer": "ipython3",
   "version": "3.11.9"
  }
 },
 "nbformat": 4,
 "nbformat_minor": 2
}
